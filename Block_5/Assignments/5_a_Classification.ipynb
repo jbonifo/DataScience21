{
 "cells": [
  {
   "cell_type": "markdown",
   "metadata": {},
   "source": [
    "# Block 5 Exercise 1: Classification"
   ]
  },
  {
   "cell_type": "markdown",
   "metadata": {},
   "source": [
    "## MNIST Data\n",
    "In these exercises we are using the MNIST data set on handwritten digits to compare supervised classification algorithms...   "
   ]
  },
  {
   "cell_type": "code",
   "execution_count": 2,
   "metadata": {},
   "outputs": [],
   "source": [
    "#imports \n",
    "import matplotlib.pyplot as plt\n",
    "import numpy as np\n",
    "from sklearn.datasets import fetch_openml"
   ]
  },
  {
   "cell_type": "code",
   "execution_count": 3,
   "metadata": {},
   "outputs": [],
   "source": [
    "# Load data from https://www.openml.org/d/554\n",
    "X, y = fetch_openml('mnist_784', version=1, return_X_y=True)"
   ]
  },
  {
   "cell_type": "code",
   "execution_count": 4,
   "metadata": {},
   "outputs": [
    {
     "data": {
      "text/plain": [
       "(70000, 784)"
      ]
     },
     "execution_count": 4,
     "metadata": {},
     "output_type": "execute_result"
    }
   ],
   "source": [
    "#the full MNIST data set contains 70k samples of digits 0-9 as 28*28 gray scale images (represented as 784 dim vectors)\n",
    "np.shape(X)"
   ]
  },
  {
   "cell_type": "markdown",
   "metadata": {},
   "source": [
    "### E1.1: Use SkLearn methods to split the MNIST data into random train and test sets. Use 60k samples for training.  \n"
   ]
  },
  {
   "cell_type": "code",
   "execution_count": 6,
   "metadata": {},
   "outputs": [],
   "source": [
    "#randomly split into train and test data\n",
    "from sklearn.model_selection import train_test_split\n",
    "X_train, X_test, y_train, y_test = train_test_split(X,y, train_size = 60000, random_state=42)"
   ]
  },
  {
   "cell_type": "markdown",
   "metadata": {},
   "source": [
    "### E1.2: Visualize the data.\n",
    "* Plot some data samples as images (use https://matplotlib.org/3.1.0/api/_as_gen/matplotlib.pyplot.imshow.html)"
   ]
  },
  {
   "cell_type": "code",
   "execution_count": 7,
   "metadata": {},
   "outputs": [
    {
     "data": {
      "text/plain": [
       "<matplotlib.image.AxesImage at 0x7fde282a9ca0>"
      ]
     },
     "execution_count": 7,
     "metadata": {},
     "output_type": "execute_result"
    },
    {
     "data": {
      "image/png": "[encoded data removed]",
      "text/plain": [
       "<Figure size 432x288 with 1 Axes>"
      ]
     },
     "metadata": {
      "needs_background": "light"
     },
     "output_type": "display_data"
    }
   ],
   "source": [
    "plt.imshow(X_train[30,:].reshape(28,28),cmap='gray')"
   ]
  },
  {
   "cell_type": "code",
   "execution_count": 8,
   "metadata": {},
   "outputs": [
    {
     "data": {
      "text/plain": [
       "'4'"
      ]
     },
     "execution_count": 8,
     "metadata": {},
     "output_type": "execute_result"
    }
   ],
   "source": [
    "y_train[30]"
   ]
  },
  {
   "cell_type": "markdown",
   "metadata": {},
   "source": [
    "### E1.3: Train models on the train data.\n",
    "Train the following models with default parameters on the train data.\n",
    "* [Naive Bayes](https://scikit-learn.org/stable/modules/generated/sklearn.naive_bayes.GaussianNB.html#sklearn.naive_bayes.GaussianNB) (assuming a Gaussian distribution of the data)\n",
    "* [Simple linear model](https://scikit-learn.org/stable/modules/generated/sklearn.linear_model.SGDClassifier.html#sklearn.linear_model.SGDClassifier)\n",
    "   * use ``loss='log'`` to reproduce our logistic loss function \n",
    "* [Random Forest](https://scikit-learn.org/stable/modules/generated/sklearn.ensemble.RandomForestClassifier.html#sklearn.ensemble.RandomForestClassifier)\n",
    "\n",
    "Compare the training accuracy (https://scikit-learn.org/stable/modules/generated/sklearn.metrics.accuracy_score.html#sklearn.metrics.accuracy_score) and [confusion matrix](https://scikit-learn.org/stable/modules/generated/sklearn.metrics.confusion_matrix.html#sklearn.metrics.confusion_matrix) for all three models."
   ]
  },
  {
   "cell_type": "code",
   "execution_count": 14,
   "metadata": {},
   "outputs": [
    {
     "data": {
      "text/plain": [
       "0.5571666666666667"
      ]
     },
     "execution_count": 14,
     "metadata": {},
     "output_type": "execute_result"
    }
   ],
   "source": [
    "#With Naive Bayes\n",
    "from sklearn.naive_bayes import GaussianNB\n",
    "from sklearn.metrics import accuracy_score\n",
    "from sklearn.metrics import confusion_matrix\n",
    "\n",
    "gnb = GaussianNB()\n",
    "gnb.fit(X_train,y_train)\n",
    "\n",
    "predicted = gnb.predict(X_train)\n",
    "accuracy_score(y_train, predicted)"
   ]
  },
  {
   "cell_type": "code",
   "execution_count": 15,
   "metadata": {},
   "outputs": [
    {
     "data": {
      "text/plain": [
       "array([[5319,    9,   32,   20,    9,   13,  187,    2,  209,  120],\n",
       "       [   2, 6327,   15,   28,    3,   12,   83,    2,  169,   84],\n",
       "       [ 498,  149, 1913,  373,   19,   29, 1549,   20, 1365,  108],\n",
       "       [ 363,  292,   56, 2186,    8,   14,  340,   47, 2093,  708],\n",
       "       [ 162,   35,   49,   35,  821,   46,  601,   32, 1220, 2917],\n",
       "       [ 635,  131,   31,  121,   21,  262,  312,   11, 3243,  609],\n",
       "       [  49,   90,   30,    2,    4,   23, 5592,    0,  118,    7],\n",
       "       [  25,   41,   10,   53,   42,    8,   21, 1803,  190, 4045],\n",
       "       [  93,  719,   32,   45,   14,   34,  103,    9, 3583, 1224],\n",
       "       [  34,   33,   14,   10,   27,    6,    4,   76,   94, 5624]])"
      ]
     },
     "execution_count": 15,
     "metadata": {},
     "output_type": "execute_result"
    }
   ],
   "source": [
    "confusion_matrix(y_train, predicted)"
   ]
  },
  {
   "cell_type": "code",
   "execution_count": 12,
   "metadata": {},
   "outputs": [
    {
     "data": {
      "text/plain": [
       "0.8988166666666667"
      ]
     },
     "execution_count": 12,
     "metadata": {},
     "output_type": "execute_result"
    }
   ],
   "source": [
    "#With Simple linear model\n",
    "import numpy as np\n",
    "from sklearn.linear_model import SGDClassifier\n",
    "from sklearn.preprocessing import StandardScaler\n",
    "from sklearn.pipeline import make_pipeline\n",
    "\n",
    "\n",
    "sgd = SGDClassifier(loss='log')\n",
    "sgd.fit(X_train, y_train)\n",
    "\n",
    "sgd_predicted = sgd.predict(X_train)\n",
    "accuracy_score(y_train, predicted)"
   ]
  },
  {
   "cell_type": "code",
   "execution_count": 16,
   "metadata": {},
   "outputs": [
    {
     "data": {
      "text/plain": [
       "array([[5801,    1,    3,   17,    1,   27,   10,    2,   45,   13],\n",
       "       [   1, 6564,   23,   12,    3,   34,    7,   10,   42,   29],\n",
       "       [  52,   76, 5162,  144,   38,   60,   55,   61,  341,   34],\n",
       "       [  30,   22,  128, 5101,    4,  308,    7,   40,  263,  204],\n",
       "       [  18,   20,   31,   23, 5037,   59,   35,   41,  108,  546],\n",
       "       [  61,   34,   28,  161,   12, 4775,   52,   14,  178,   61],\n",
       "       [  58,   16,   48,   12,   16,  219, 5457,    1,   76,   12],\n",
       "       [  22,   19,   45,   40,   40,   37,    6, 5761,   41,  227],\n",
       "       [  61,  122,   43,   73,   14,  309,   17,   27, 4925,  265],\n",
       "       [  29,   23,   25,   40,   76,  101,    1,  210,   71, 5346]])"
      ]
     },
     "execution_count": 16,
     "metadata": {},
     "output_type": "execute_result"
    }
   ],
   "source": [
    "confusion_matrix(y_train, sgd_predicted)"
   ]
  },
  {
   "cell_type": "code",
   "execution_count": 17,
   "metadata": {},
   "outputs": [
    {
     "data": {
      "text/plain": [
       "1.0"
      ]
     },
     "execution_count": 17,
     "metadata": {},
     "output_type": "execute_result"
    }
   ],
   "source": [
    "#With Random Forest\n",
    "from sklearn.ensemble import RandomForestClassifier\n",
    "from sklearn.datasets import make_classification\n",
    "\n",
    "clf = RandomForestClassifier()\n",
    "clf.fit(X_train,y_train)\n",
    "\n",
    "clf_predicted = clf.predict(X_train)\n",
    "accuracy_score(y_train, clf_predicted)"
   ]
  },
  {
   "cell_type": "code",
   "execution_count": 18,
   "metadata": {},
   "outputs": [
    {
     "data": {
      "text/plain": [
       "array([[5920,    0,    0,    0,    0,    0,    0,    0,    0,    0],\n",
       "       [   0, 6725,    0,    0,    0,    0,    0,    0,    0,    0],\n",
       "       [   0,    0, 6023,    0,    0,    0,    0,    0,    0,    0],\n",
       "       [   0,    0,    0, 6107,    0,    0,    0,    0,    0,    0],\n",
       "       [   0,    0,    0,    0, 5918,    0,    0,    0,    0,    0],\n",
       "       [   0,    0,    0,    0,    0, 5376,    0,    0,    0,    0],\n",
       "       [   0,    0,    0,    0,    0,    0, 5915,    0,    0,    0],\n",
       "       [   0,    0,    0,    0,    0,    0,    0, 6238,    0,    0],\n",
       "       [   0,    0,    0,    0,    0,    0,    0,    0, 5856,    0],\n",
       "       [   0,    0,    0,    0,    0,    0,    0,    0,    0, 5922]])"
      ]
     },
     "execution_count": 18,
     "metadata": {},
     "output_type": "execute_result"
    }
   ],
   "source": [
    "confusion_matrix(y_train, clf_predicted)"
   ]
  },
  {
   "cell_type": "markdown",
   "metadata": {},
   "source": [
    "### E1.4: Evaluate and compare the models on the test set.\n",
    "* compute the test [accuracy](https://scikit-learn.org/stable/modules/generated/sklearn.metrics.accuracy_score.html#sklearn.metrics.accuracy_score) \n",
    "* compute the [F-Measure](https://scikit-learn.org/stable/modules/generated/sklearn.metrics.f1_score.html#sklearn.metrics.f1_score)\n",
    "* plot a [ROC curves](https://scikit-learn.org/stable/modules/generated/sklearn.metrics.roc_curve.html#sklearn.metrics.roc_curve) for the class \"5\" for all three models.\n",
    "                          "
   ]
  },
  {
   "cell_type": "code",
   "execution_count": 41,
   "metadata": {},
   "outputs": [],
   "source": [
    "from sklearn.metrics import f1_score, roc_curve, plot_roc_curve,svm"
   ]
  },
  {
   "cell_type": "code",
   "execution_count": 68,
   "metadata": {},
   "outputs": [
    {
     "name": "stdout",
     "output_type": "stream",
     "text": [
      "Naive Bays classification\n",
      "Accuracy of Naive Bays =  0.5604\n",
      "F-Measure = 0.5604\n"
     ]
    }
   ],
   "source": [
    "#Compute test for Naive Bays\n",
    "\n",
    "predicted = gnb.predict(X_test)\n",
    "\n",
    "print(\"Naive Bays classification\")\n",
    "print(\"Accuracy of Naive Bays = \",accuracy_score(y_test, predicted))\n",
    "print(\"F-Measure =\",f1_score(y_test, predicted, average='micro'))\n",
    "\n",
    "model_score = gnb.predict_proba(X_test)[:,5]\n",
    "fpr_Naive, tpr_Naive, thresholds_Naive = roc_curve(y_test, model_score,pos_label='5')"
   ]
  },
  {
   "cell_type": "code",
   "execution_count": 70,
   "metadata": {},
   "outputs": [
    {
     "name": "stdout",
     "output_type": "stream",
     "text": [
      "Simple linear model classification\n",
      "Accuracy of Naive Bays =  0.8873\n",
      "F-Measure = 0.8873\n"
     ]
    }
   ],
   "source": [
    "#With Simple linear model\n",
    "\n",
    "sgd_predicted = sgd.predict(X_test)\n",
    "\n",
    "print(\"Simple linear model classification\")\n",
    "print(\"Accuracy of Naive Bays = \",accuracy_score(y_test, sgd_predicted))\n",
    "print(\"F-Measure =\",f1_score(y_test, sgd_predicted, average='micro'))\n",
    "\n",
    "model_score_sgd = sgd.decision_function(X_test)[:,5]\n",
    "fpr_Linear, tpr_Linear, thresholds_Linear = roc_curve(y_test, model_score_sgd,pos_label='5')"
   ]
  },
  {
   "cell_type": "code",
   "execution_count": 72,
   "metadata": {},
   "outputs": [
    {
     "name": "stdout",
     "output_type": "stream",
     "text": [
      "#With Random Forest classification\n",
      "Accuracy of Naive Bays =  0.9669\n",
      "F-Measure = 0.9669\n"
     ]
    }
   ],
   "source": [
    "#With Random Forest\n",
    "\n",
    "clf_predicted = clf.predict(X_test)\n",
    "\n",
    "print(\"#With Random Forest classification\")\n",
    "print(\"Accuracy of Naive Bays = \",accuracy_score(y_test, clf_predicted))\n",
    "print(\"F-Measure =\",f1_score(y_test, clf_predicted, average='micro'))\n",
    "\n",
    "model_score_forest = clf.predict_proba(X_test)[:,5]\n",
    "fpr_forest, tpr_forest, thresholds_forest = roc_curve(y_test, model_score_forest,pos_label='5')"
   ]
  },
  {
   "cell_type": "code",
   "execution_count": 73,
   "metadata": {},
   "outputs": [
    {
     "data": {
      "image/png": "[encoded data removed]",
      "text/plain": [
       "<Figure size 432x288 with 1 Axes>"
      ]
     },
     "metadata": {
      "needs_background": "light"
     },
     "output_type": "display_data"
    }
   ],
   "source": [
    "plt.plot(fpr_Naive, tpr_Naive, color='orange', label='Naive Bays')\n",
    "plt.plot(fpr_Linear, tpr_Linear, color='blue', label='Simple linear model')\n",
    "plt.plot(fpr_forest, tpr_forest, color='red', label='Random Forest')\n",
    "\n",
    "plt.plot([0, 1], [0, 1], color='darkblue', linestyle='--')\n",
    "plt.xlabel('False Positive Rate')\n",
    "plt.ylabel('True Positive Rate')\n",
    "plt.title('Receiver Operating Characteristic (ROC) Curve')\n",
    "plt.legend()\n",
    "plt.show()"
   ]
  }
 ],
 "metadata": {
  "kernelspec": {
   "display_name": "Python 3",
   "language": "python",
   "name": "python3"
  },
  "language_info": {
   "codemirror_mode": {
    "name": "ipython",
    "version": 3
   },
   "file_extension": ".py",
   "mimetype": "text/x-python",
   "name": "python",
   "nbconvert_exporter": "python",
   "pygments_lexer": "ipython3",
   "version": "3.8.5"
  }
 },
 "nbformat": 4,
 "nbformat_minor": 4
}
