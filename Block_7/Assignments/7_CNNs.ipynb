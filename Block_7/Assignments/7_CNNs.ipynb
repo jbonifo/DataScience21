{
  "nbformat": 4,
  "nbformat_minor": 0,
  "metadata": {
    "colab": {
      "name": "Exercise_2 .ipynb",
      "provenance": [],
      "toc_visible": true
    },
    "kernelspec": {
      "display_name": "Python 3",
      "language": "python",
      "name": "python3"
    },
    "language_info": {
      "codemirror_mode": {
        "name": "ipython",
        "version": 3
      },
      "file_extension": ".py",
      "mimetype": "text/x-python",
      "name": "python",
      "nbconvert_exporter": "python",
      "pygments_lexer": "ipython3",
      "version": "3.7.6"
    },
    "accelerator": "GPU"
  },
  "cells": [
    {
      "cell_type": "markdown",
      "metadata": {
        "id": "NgYV9F8IE2L_"
      },
      "source": [
        "# Assignment - Image Classification with CNNs\n",
        "![CIFAR10](https://miro.medium.com/max/964/1*syyml8q8s1Yt-iEea5m1Ag.png)\n",
        "\n",
        "[CIFAR 10](https://www.cs.toronto.edu/~kriz/cifar.html) is a small toy data set for image classifaction. \n",
        "\n",
        "* It has 60k images from ten diffenrent classes (like car, airplane, horse,..)\n",
        "* The RGB images are of size 32x32 pixels  "
      ]
    },
    {
      "cell_type": "code",
      "metadata": {
        "colab": {
          "base_uri": "https://localhost:8080/"
        },
        "id": "GiDFXXcUEy-G",
        "outputId": "0ab725c5-47ae-4c7b-e379-e05328cf8b83"
      },
      "source": [
        "#import needed libs\n",
        "from __future__ import print_function\n",
        "import keras\n",
        "from keras.datasets import cifar10\n",
        "from keras.preprocessing.image import ImageDataGenerator\n",
        "from keras.models import Sequential\n",
        "from keras.layers import Dense, Dropout, Activation, Flatten, Input\n",
        "from keras.layers import Conv2D, MaxPooling2D\n",
        "from keras.layers.normalization import BatchNormalization\n",
        "from keras.models import Model\n",
        "import os\n",
        "import numpy as np\n",
        "\n",
        "#some vars to controll the training -> use them in your code\n",
        "batch_size = 32\n",
        "num_classes = 10 #fixed!\n",
        "epochs = 10\n",
        "\n",
        "# Get the data, split between train and test sets:\n",
        "(x_train, y_train), (x_test, y_test) = cifar10.load_data()\n",
        "print('x_train shape:', x_train.shape)\n",
        "print(x_train.shape[0], 'train samples')\n",
        "print(x_test.shape[0], 'test samples')\n",
        "\n",
        "# Convert class vectors to binary class matrices.\n",
        "y_train = keras.utils.to_categorical(y_train, num_classes)\n",
        "y_test = keras.utils.to_categorical(y_test, num_classes)"
      ],
      "execution_count": 49,
      "outputs": [
        {
          "output_type": "stream",
          "text": [
            "x_train shape: (50000, 32, 32, 3)\n",
            "50000 train samples\n",
            "10000 test samples\n"
          ],
          "name": "stdout"
        }
      ]
    },
    {
      "cell_type": "markdown",
      "metadata": {
        "id": "vmocaCkIGOIR"
      },
      "source": [
        "## Task:\n",
        "* visualize some sample images from different classes\n",
        "* build and train the ***AlexNet*** CNN architecture from the lecture, use the following Keras layers:\n",
        "    * overview: https://keras.io/api/layers/\n",
        "    * 2d convolution: https://keras.io/api/layers/convolution_layers/convolution2d/\n",
        "    * Fully Connected (=Matrix Multiplication MLP): https://keras.io/api/layers/core_layers/dense/\n",
        "    * Pooling: https://keras.io/api/layers/pooling_layers/max_pooling2d/   \n",
        "* use 'relu' functions for the non-linear activation -> https://keras.io/api/layers/activation_layers/relu/\n",
        "* optimize the learning hyper-paramters to get the best  test accuracy"
      ]
    },
    {
      "cell_type": "markdown",
      "metadata": {
        "id": "8JkLb4x4TN18"
      },
      "source": [
        "## 1. Visualize some sample images from different classes"
      ]
    },
    {
      "cell_type": "code",
      "metadata": {
        "id": "9p5AD8mJEzmL"
      },
      "source": [
        "import matplotlib.pyplot as plt"
      ],
      "execution_count": 50,
      "outputs": []
    },
    {
      "cell_type": "code",
      "metadata": {
        "colab": {
          "base_uri": "https://localhost:8080/",
          "height": 285
        },
        "id": "-SOUXJXYV5Sh",
        "outputId": "1133df98-9539-4a79-ee5a-388e1e94d077"
      },
      "source": [
        "fig, axs = plt.subplots(2, 2)\n",
        "axs[0, 0].imshow(x_train[1])\n",
        "axs[0, 1].imshow(x_train[6])\n",
        "axs[1, 0].imshow(x_train[9])\n",
        "axs[1, 1].imshow(x_train[123])"
      ],
      "execution_count": 51,
      "outputs": [
        {
          "output_type": "execute_result",
          "data": {
            "text/plain": [
              "<matplotlib.image.AxesImage at 0x7f7565e7f7d0>"
            ]
          },
          "metadata": {
            "tags": []
          },
          "execution_count": 51
        },
        {
          "output_type": "display_data",
          "data": {
            "image/png": "[encoded data removed]",
            "text/plain": [
              "<Figure size 432x288 with 4 Axes>"
            ]
          },
          "metadata": {
            "tags": [],
            "needs_background": "light"
          }
        }
      ]
    },
    {
      "cell_type": "markdown",
      "metadata": {
        "id": "XwhTGzzPjsxy"
      },
      "source": [
        ""
      ]
    },
    {
      "cell_type": "markdown",
      "metadata": {
        "id": "IDr4_tNHjzUs"
      },
      "source": [
        "## 2. AlexNet model construction"
      ]
    },
    {
      "cell_type": "code",
      "metadata": {
        "id": "wImhb_k5j_MT"
      },
      "source": [
        "from tensorflow.keras import layers\n",
        "from tensorflow.keras.layers.experimental.preprocessing import CenterCrop\n",
        "from tensorflow.keras.layers.experimental.preprocessing import Rescaling"
      ],
      "execution_count": 52,
      "outputs": []
    },
    {
      "cell_type": "code",
      "metadata": {
        "id": "ITP-0nqwn-oe"
      },
      "source": [
        "#We define the AlexNet Model\n",
        "\n",
        "def AlexNet(input_shape):\n",
        "\n",
        "  X_input = Input(input_shape)\n",
        "\n",
        "  X = Conv2D(96,(11,11),strides = 4,padding = 'same', name=\"conv0\")(X_input)\n",
        "  X = BatchNormalization(name = \"bn0\")(X)\n",
        "  X = Activation('relu')(X)\n",
        "\n",
        "  X = MaxPooling2D((3,3),strides = 2,padding = 'same',name = 'max0')(X)\n",
        "\n",
        "  X = Conv2D(256,(5,5),padding = 'same' , name = 'conv1')(X)\n",
        "  X = BatchNormalization(name='bn1')(X)\n",
        "  X = Activation('relu')(X)\n",
        "\n",
        "  X = MaxPooling2D((3,3),strides = 2,padding = 'same',name = 'max1')(X)\n",
        "\n",
        "  #X = Conv2D(384, (3,3) , padding = 'same' , name='conv2')(X)\n",
        " # X = BatchNormalization(axis = 3, name = 'bn2')(X)\n",
        "  #X = Activation('relu')(X)\n",
        "\n",
        " # X = Conv2D(384, (3,3) , padding = 'same' , name='conv3')(X)\n",
        "  #X = BatchNormalization(axis = 3, name = 'bn3')(X)\n",
        "  #X = Activation('relu')(X)\n",
        "\n",
        "  X = Conv2D(256, (3,3) , padding = 'same' , name='conv4')(X)\n",
        "  X = BatchNormalization(name = 'bn4')(X)\n",
        "  X = Activation('relu')(X)\n",
        "\n",
        "  X = MaxPooling2D((3,3),strides = 2,padding = 'same',name = 'max2')(X)\n",
        "\n",
        "  X = Flatten()(X)\n",
        "\n",
        "  X = Dense(4096, activation = 'relu', name = \"fc0\")(X)\n",
        "  X = Dropout(0.5)(X)\n",
        "\n",
        "  X = Dense(4096, activation = 'relu', name = 'fc1')(X) \n",
        "  X = Dropout(0.5)(X)\n",
        "\n",
        "  X = Dense(10,activation='softmax',name = 'fc2')(X)\n",
        "\n",
        "  model = Model(inputs = X_input, outputs = X, name='AlexNet')\n",
        "\n",
        "  return model"
      ],
      "execution_count": 53,
      "outputs": []
    },
    {
      "cell_type": "code",
      "metadata": {
        "id": "29yn28bP7VLf"
      },
      "source": [
        "alex = AlexNet(x_train.shape[1:])"
      ],
      "execution_count": 54,
      "outputs": []
    },
    {
      "cell_type": "code",
      "metadata": {
        "colab": {
          "base_uri": "https://localhost:8080/"
        },
        "id": "cEZZsgRW7rK6",
        "outputId": "7021fefd-fbc6-47aa-ff99-7705ed5e5366"
      },
      "source": [
        "alex.summary()"
      ],
      "execution_count": 55,
      "outputs": [
        {
          "output_type": "stream",
          "text": [
            "Model: \"AlexNet\"\n",
            "_________________________________________________________________\n",
            "Layer (type)                 Output Shape              Param #   \n",
            "=================================================================\n",
            "input_1 (InputLayer)         [(None, 32, 32, 3)]       0         \n",
            "_________________________________________________________________\n",
            "conv0 (Conv2D)               (None, 8, 8, 96)          34944     \n",
            "_________________________________________________________________\n",
            "bn0 (BatchNormalization)     (None, 8, 8, 96)          384       \n",
            "_________________________________________________________________\n",
            "activation (Activation)      (None, 8, 8, 96)          0         \n",
            "_________________________________________________________________\n",
            "max0 (MaxPooling2D)          (None, 4, 4, 96)          0         \n",
            "_________________________________________________________________\n",
            "conv1 (Conv2D)               (None, 4, 4, 256)         614656    \n",
            "_________________________________________________________________\n",
            "bn1 (BatchNormalization)     (None, 4, 4, 256)         1024      \n",
            "_________________________________________________________________\n",
            "activation_1 (Activation)    (None, 4, 4, 256)         0         \n",
            "_________________________________________________________________\n",
            "max1 (MaxPooling2D)          (None, 2, 2, 256)         0         \n",
            "_________________________________________________________________\n",
            "conv4 (Conv2D)               (None, 2, 2, 256)         590080    \n",
            "_________________________________________________________________\n",
            "bn4 (BatchNormalization)     (None, 2, 2, 256)         1024      \n",
            "_________________________________________________________________\n",
            "activation_2 (Activation)    (None, 2, 2, 256)         0         \n",
            "_________________________________________________________________\n",
            "max2 (MaxPooling2D)          (None, 1, 1, 256)         0         \n",
            "_________________________________________________________________\n",
            "flatten (Flatten)            (None, 256)               0         \n",
            "_________________________________________________________________\n",
            "fc0 (Dense)                  (None, 4096)              1052672   \n",
            "_________________________________________________________________\n",
            "dropout (Dropout)            (None, 4096)              0         \n",
            "_________________________________________________________________\n",
            "fc1 (Dense)                  (None, 4096)              16781312  \n",
            "_________________________________________________________________\n",
            "dropout_1 (Dropout)          (None, 4096)              0         \n",
            "_________________________________________________________________\n",
            "fc2 (Dense)                  (None, 10)                40970     \n",
            "=================================================================\n",
            "Total params: 19,117,066\n",
            "Trainable params: 19,115,850\n",
            "Non-trainable params: 1,216\n",
            "_________________________________________________________________\n"
          ],
          "name": "stdout"
        }
      ]
    },
    {
      "cell_type": "code",
      "metadata": {
        "id": "l1J24FleExZW"
      },
      "source": [
        "# Compilation of the model\n",
        "alex.compile(optimizer = 'adam' , loss = 'categorical_crossentropy' , metrics=['accuracy'])"
      ],
      "execution_count": 56,
      "outputs": []
    },
    {
      "cell_type": "code",
      "metadata": {
        "colab": {
          "base_uri": "https://localhost:8080/"
        },
        "id": "OqeUyGeHHSFO",
        "outputId": "a3ef6890-22db-4fe1-9f65-ac51bdbae3b0"
      },
      "source": [
        "print(\"Fit train\")\n",
        "history = alex.fit(x_train, y_train, batch_size=batch_size,validation_data=(x_test, y_test), epochs=epochs)"
      ],
      "execution_count": 57,
      "outputs": [
        {
          "output_type": "stream",
          "text": [
            "Fit train\n",
            "Epoch 1/10\n",
            "1563/1563 [==============================] - 33s 21ms/step - loss: 1.9892 - accuracy: 0.2714 - val_loss: 1.8317 - val_accuracy: 0.3077\n",
            "Epoch 2/10\n",
            "1563/1563 [==============================] - 33s 21ms/step - loss: 1.4825 - accuracy: 0.4564 - val_loss: 1.7927 - val_accuracy: 0.3909\n",
            "Epoch 3/10\n",
            "1563/1563 [==============================] - 32s 20ms/step - loss: 1.3096 - accuracy: 0.5357 - val_loss: 1.2555 - val_accuracy: 0.5545\n",
            "Epoch 4/10\n",
            "1563/1563 [==============================] - 31s 20ms/step - loss: 1.1815 - accuracy: 0.5854 - val_loss: 1.2623 - val_accuracy: 0.5569\n",
            "Epoch 5/10\n",
            "1563/1563 [==============================] - 31s 20ms/step - loss: 1.0647 - accuracy: 0.6296 - val_loss: 1.2527 - val_accuracy: 0.5672\n",
            "Epoch 6/10\n",
            "1563/1563 [==============================] - 31s 20ms/step - loss: 0.9642 - accuracy: 0.6639 - val_loss: 1.1644 - val_accuracy: 0.5855\n",
            "Epoch 7/10\n",
            "1563/1563 [==============================] - 31s 20ms/step - loss: 0.8820 - accuracy: 0.6947 - val_loss: 1.0173 - val_accuracy: 0.6562\n",
            "Epoch 8/10\n",
            "1563/1563 [==============================] - 32s 20ms/step - loss: 0.7909 - accuracy: 0.7294 - val_loss: 1.0898 - val_accuracy: 0.6245\n",
            "Epoch 9/10\n",
            "1563/1563 [==============================] - 32s 20ms/step - loss: 0.7369 - accuracy: 0.7514 - val_loss: 0.9919 - val_accuracy: 0.6611\n",
            "Epoch 10/10\n",
            "1563/1563 [==============================] - 31s 20ms/step - loss: 0.6820 - accuracy: 0.7709 - val_loss: 1.1102 - val_accuracy: 0.6359\n"
          ],
          "name": "stdout"
        }
      ]
    },
    {
      "cell_type": "code",
      "metadata": {
        "colab": {
          "base_uri": "https://localhost:8080/"
        },
        "id": "XH_K2B1YLDe-",
        "outputId": "883ecd82-5506-482a-b120-821f81dc29d4"
      },
      "source": [
        "preds = alex.evaluate(x_test,y_test,batch_size=batch_size)\n",
        "print (\"Loss = \" + str(preds[0]))\n",
        "print (\"Test Accuracy = \" + str(preds[1]))"
      ],
      "execution_count": 58,
      "outputs": [
        {
          "output_type": "stream",
          "text": [
            "313/313 [==============================] - 2s 6ms/step - loss: 1.1102 - accuracy: 0.6359\n",
            "Loss = 1.1102303266525269\n",
            "Test Accuracy = 0.6359000205993652\n"
          ],
          "name": "stdout"
        }
      ]
    },
    {
      "cell_type": "markdown",
      "metadata": {
        "id": "SFgxSHMokjxZ"
      },
      "source": [
        "## Optimization of the model"
      ]
    },
    {
      "cell_type": "code",
      "metadata": {
        "colab": {
          "base_uri": "https://localhost:8080/"
        },
        "id": "u9ewWEUu7Ahd",
        "outputId": "d9a283f3-ec48-416a-ae6a-0895aaccc971"
      },
      "source": [
        "!pip install keras-tuner\n",
        "\n",
        "from kerastuner import HyperModel"
      ],
      "execution_count": 59,
      "outputs": [
        {
          "output_type": "stream",
          "text": [
            "Requirement already satisfied: keras-tuner in /usr/local/lib/python3.7/dist-packages (1.0.2)\n",
            "Requirement already satisfied: tabulate in /usr/local/lib/python3.7/dist-packages (from keras-tuner) (0.8.9)\n",
            "Requirement already satisfied: scipy in /usr/local/lib/python3.7/dist-packages (from keras-tuner) (1.4.1)\n",
            "Requirement already satisfied: scikit-learn in /usr/local/lib/python3.7/dist-packages (from keras-tuner) (0.22.2.post1)\n",
            "Requirement already satisfied: packaging in /usr/local/lib/python3.7/dist-packages (from keras-tuner) (20.9)\n",
            "Requirement already satisfied: terminaltables in /usr/local/lib/python3.7/dist-packages (from keras-tuner) (3.1.0)\n",
            "Requirement already satisfied: future in /usr/local/lib/python3.7/dist-packages (from keras-tuner) (0.16.0)\n",
            "Requirement already satisfied: colorama in /usr/local/lib/python3.7/dist-packages (from keras-tuner) (0.4.4)\n",
            "Requirement already satisfied: requests in /usr/local/lib/python3.7/dist-packages (from keras-tuner) (2.23.0)\n",
            "Requirement already satisfied: numpy in /usr/local/lib/python3.7/dist-packages (from keras-tuner) (1.19.5)\n",
            "Requirement already satisfied: tqdm in /usr/local/lib/python3.7/dist-packages (from keras-tuner) (4.41.1)\n",
            "Requirement already satisfied: joblib>=0.11 in /usr/local/lib/python3.7/dist-packages (from scikit-learn->keras-tuner) (1.0.1)\n",
            "Requirement already satisfied: pyparsing>=2.0.2 in /usr/local/lib/python3.7/dist-packages (from packaging->keras-tuner) (2.4.7)\n",
            "Requirement already satisfied: chardet<4,>=3.0.2 in /usr/local/lib/python3.7/dist-packages (from requests->keras-tuner) (3.0.4)\n",
            "Requirement already satisfied: certifi>=2017.4.17 in /usr/local/lib/python3.7/dist-packages (from requests->keras-tuner) (2020.12.5)\n",
            "Requirement already satisfied: urllib3!=1.25.0,!=1.25.1,<1.26,>=1.21.1 in /usr/local/lib/python3.7/dist-packages (from requests->keras-tuner) (1.24.3)\n",
            "Requirement already satisfied: idna<3,>=2.5 in /usr/local/lib/python3.7/dist-packages (from requests->keras-tuner) (2.10)\n"
          ],
          "name": "stdout"
        }
      ]
    },
    {
      "cell_type": "code",
      "metadata": {
        "id": "edDbXrKk8XhT"
      },
      "source": [
        "def build_model(hp):\n",
        "\n",
        "  X_input = Input(shape=(32,32,3))\n",
        "\n",
        "  X = Conv2D(96,(11,11),strides = 4,padding = 'same', input_shape=(32,32,3,),name=\"conv0\")(X_input)\n",
        "\n",
        "  X = BatchNormalization(name = \"bn0\")(X)\n",
        "\n",
        "  X = Activation(\n",
        "      activation=hp.Choice(\n",
        "        'Activation_activation',\n",
        "        values=['relu', 'tanh', 'sigmoid','softmax','softplus','elu','selu','softsign'],\n",
        "        default='relu'))(X)\n",
        "\n",
        "  X = MaxPooling2D((3,3),strides = 2,padding = 'same',name = 'max0')(X)\n",
        "\n",
        "  X = Conv2D(256,(5,5),padding = 'same' , name = 'conv1')(X)\n",
        "\n",
        "  X = BatchNormalization(name='bn1')(X)\n",
        "\n",
        "  X = Activation(activation=hp.Choice(\n",
        "        'Activation_activation',\n",
        "        values=['relu', 'tanh', 'sigmoid','softmax','softplus','elu','selu','softsign'],\n",
        "        default='relu'))(X)\n",
        "\n",
        "  X = MaxPooling2D((3,3),strides = 2,padding = 'same',name = 'max1')(X)\n",
        "\n",
        "  #X = Conv2D(384, (3,3) , padding = 'same' , name='conv2')(X)\n",
        " # X = BatchNormalization(axis = 3, name = 'bn2')(X)\n",
        "  #X = Activation('relu')(X)\n",
        "\n",
        " # X = Conv2D(384, (3,3) , padding = 'same' , name='conv3')(X)\n",
        "  #X = BatchNormalization(axis = 3, name = 'bn3')(X)\n",
        "  #X = Activation('relu')(X)\n",
        "\n",
        "  X = Conv2D(256, (3,3) , padding = 'same' , name='conv4')(X)\n",
        "\n",
        "  X = BatchNormalization(name = 'bn4')(X)\n",
        "\n",
        "  X = Activation(activation=hp.Choice(\n",
        "        'Activation_activation',\n",
        "        values=['relu', 'tanh', 'sigmoid','softmax','softplus','elu','selu','softsign'],\n",
        "        default='relu'))(X)\n",
        "\n",
        "  X = MaxPooling2D((3,3),strides = 2,padding = 'same',name = 'max2')(X)\n",
        "\n",
        "  X = Flatten()(X)\n",
        "\n",
        "  X = Dense(units=hp.Int(\n",
        "        'units',\n",
        "        min_value=1000,\n",
        "        max_value=5000,\n",
        "        step=500,\n",
        "        default=4096\n",
        "    ),\n",
        "    activation=hp.Choice(\n",
        "        'dense_activation',\n",
        "        values=['relu', 'tanh', 'sigmoid'],\n",
        "        default='relu'\n",
        "    ), name = \"fc0\")(X)\n",
        "  X = Dropout(rate=hp.Float(\n",
        "                'dropout_1',\n",
        "                min_value=0.0,\n",
        "                max_value=1,\n",
        "                default=0.5,\n",
        "                step=0.05,\n",
        "            ))(X)\n",
        "\n",
        "  X = Dense(units=hp.Int(\n",
        "        'units',\n",
        "        min_value=1000,\n",
        "        max_value=5000,\n",
        "        step=500,\n",
        "        default=4096\n",
        "    ),\n",
        "    activation=hp.Choice(\n",
        "        'dense_activation',\n",
        "        values=['relu', 'tanh', 'sigmoid'],\n",
        "        default='relu'\n",
        "    ), name = 'fc1')(X) \n",
        "  X = Dropout(rate=hp.Float(\n",
        "                'dropout_1',\n",
        "                min_value=0.0,\n",
        "                max_value=1,\n",
        "                default=0.5,\n",
        "                step=0.05,\n",
        "            ))(X)\n",
        "\n",
        "  X = Dense(10,\n",
        "            activation=hp.Choice(\n",
        "        'dense_activation',\n",
        "        values=['relu', 'tanh', 'sigmoid'],\n",
        "        default='relu'\n",
        "    ),name = 'fc2')(X)\n",
        "\n",
        "\n",
        "  model = Model(inputs = X_input, outputs = X, name='AlexNet')\n",
        "\n",
        "  model.compile(optimizer=keras.optimizers.Adam(\n",
        "                hp.Float(\n",
        "                    'learning_rate',\n",
        "                    min_value=1e-4,\n",
        "                    max_value=1e-2,\n",
        "                    sampling='LOG',\n",
        "                    default=1e-3\n",
        "                )\n",
        "            ), loss = 'categorical_crossentropy' , metrics=['accuracy'])\n",
        "\n",
        "  return model"
      ],
      "execution_count": 72,
      "outputs": []
    },
    {
      "cell_type": "code",
      "metadata": {
        "id": "yoE2VI1nlCic"
      },
      "source": [
        "import kerastuner\n",
        " \n",
        "tuner = kerastuner.tuners.Hyperband(\n",
        "  build_model,\n",
        "  objective='val_accuracy',\n",
        "  max_epochs=10,\n",
        "  executions_per_trial=2,\n",
        "  directory='my_dir')"
      ],
      "execution_count": 73,
      "outputs": []
    },
    {
      "cell_type": "code",
      "metadata": {
        "id": "a0tNrvMU-uMI"
      },
      "source": [
        ""
      ],
      "execution_count": null,
      "outputs": []
    },
    {
      "cell_type": "code",
      "metadata": {
        "id": "klIMj5vI-cCW"
      },
      "source": [
        ""
      ],
      "execution_count": null,
      "outputs": []
    }
  ]
}